{
 "cells": [
  {
   "cell_type": "markdown",
   "metadata": {},
   "source": [
    "--- Day 3: Spiral Memory ---\n",
    "You come across an experimental new kind of memory stored on an infinite two-dimensional grid.\n",
    "\n",
    "Each square on the grid is allocated in a spiral pattern starting at a location marked 1 and then counting up while spiraling outward. For example, the first few squares are allocated like this:\n",
    "\n",
    "37  36  35  34  33  32  31\n",
    "38  17  16  15  14  13  30\n",
    "39  18   5   4   3  12  29\n",
    "40  19   6   1   2  11  28\n",
    "41  20   7   8   9  10  27\n",
    "42  21  22  23  24  25  26\n",
    "43  44  45  46  47  48  49  50\n",
    "\n",
    "\n",
    "While this is very space-efficient (no squares are skipped), requested data must be carried back to square 1 (the location of the only access port for this memory system) by programs that can only move up, down, left, or right. They always take the shortest path: the Manhattan Distance between the location of the data and square 1.\n",
    "\n",
    "For example:\n",
    "\n",
    "Data from square 1 is carried 0 steps, since it's at the access port.\n",
    "Data from square 12 is carried 3 steps, such as: down, left, left.\n",
    "Data from square 23 is carried only 2 steps: up twice.\n",
    "Data from square 1024 must be carried 31 steps.\n",
    "How many steps are required to carry the data from the square identified in your puzzle input all the way to the access port?"
   ]
  },
  {
   "cell_type": "markdown",
   "metadata": {},
   "source": [
    "1, 4, 15, 34\n",
    "1, 2, 11, 28\n",
    "1, 8, 23, 36\n",
    "1, 6, 19, 40\n",
    "\n",
    "1, 8, 16, 24"
   ]
  },
  {
   "cell_type": "code",
   "execution_count": 21,
   "metadata": {},
   "outputs": [],
   "source": [
    "diameter = [1, 3, 5, 7, 9]\n",
    "area = [x**2 for x in diameter]\n",
    "interior = [(x-2)**2 for x in diameter]\n",
    "shells = [(area[i]-interior[i]) for i in range(len(area))]"
   ]
  },
  {
   "cell_type": "code",
   "execution_count": 25,
   "metadata": {},
   "outputs": [
    {
     "data": {
      "text/plain": [
       "[0, 8, 16, 24, 32]"
      ]
     },
     "execution_count": 25,
     "metadata": {},
     "output_type": "execute_result"
    }
   ],
   "source": [
    "shells"
   ]
  },
  {
   "cell_type": "code",
   "execution_count": 98,
   "metadata": {},
   "outputs": [
    {
     "data": {
      "text/plain": [
       "[1, 3, 5, 7, 9]"
      ]
     },
     "execution_count": 98,
     "metadata": {},
     "output_type": "execute_result"
    }
   ],
   "source": [
    "[(x*2)+1 for x in range(5)]"
   ]
  },
  {
   "cell_type": "code",
   "execution_count": 37,
   "metadata": {},
   "outputs": [
    {
     "name": "stdout",
     "output_type": "stream",
     "text": [
      "1 1\n",
      "1 9\n",
      "9 25\n",
      "25 49\n",
      "49 81\n"
     ]
    }
   ],
   "source": [
    "last = 1\n",
    "\n",
    "for shell in shells:\n",
    "    print(last, shell+last)\n",
    "    last = shell+last"
   ]
  },
  {
   "cell_type": "code",
   "execution_count": 147,
   "metadata": {},
   "outputs": [],
   "source": [
    "class Shell():\n",
    "    def __init__(self, count):\n",
    "        self.count = count\n",
    "        diameter = (count*2)+1\n",
    "        self.area = diameter**2\n",
    "        self.interior = (diameter-2)**2\n",
    "        self.skin_area = self.area-self.interior\n",
    "#         self.exterior = ((diameter+2)**2) - self.area\n",
    "        self.start = self.interior + 1\n",
    "        self.end = self.start + self.skin_area -1\n",
    "        quarter = self.skin_area/4\n",
    "        self.south = self.end - quarter/2\n",
    "        self.east = self.south - quarter\n",
    "        self.north = self.east - quarter\n",
    "        self.west = self.north - quarter\n",
    "        self.axis = [self.south, self.east, self.north, self.west]\n",
    "        \n",
    "    def __repr__(self):\n",
    "        return \"Shell: {} {}->{}\".format(self.count, self.start, self.end)\n",
    "    \n",
    "    def in_shell(self, numb):\n",
    "        return numb >= self.start and numb <= self.end\n",
    "    \n",
    "    def steps_to_axis(self, numb):\n",
    "        return min([abs(numb-x) for x in self.axis])\n",
    "    \n",
    "    def steps_to_center(self, numb):\n",
    "        return self.steps_to_axis(numb) + self.count\n",
    "        \n"
   ]
  },
  {
   "cell_type": "code",
   "execution_count": 148,
   "metadata": {},
   "outputs": [
    {
     "data": {
      "text/plain": [
       "True"
      ]
     },
     "execution_count": 148,
     "metadata": {},
     "output_type": "execute_result"
    }
   ],
   "source": [
    "sh = shell(4)\n",
    "sh.in_shell(80)"
   ]
  },
  {
   "cell_type": "code",
   "execution_count": 149,
   "metadata": {},
   "outputs": [],
   "source": [
    "def get_shell(numb):\n",
    "    shell_count = 0\n",
    "    sh = None\n",
    "    while(True):\n",
    "        sh = Shell(shell_count)\n",
    "        if sh.in_shell(numb):\n",
    "            break\n",
    "        shell_count += 1\n",
    "    return sh\n",
    "        "
   ]
  },
  {
   "cell_type": "code",
   "execution_count": 152,
   "metadata": {},
   "outputs": [
    {
     "name": "stdout",
     "output_type": "stream",
     "text": [
      "Shell: 263 275626->277729\n"
     ]
    },
    {
     "data": {
      "text/plain": [
       "475.0"
      ]
     },
     "execution_count": 152,
     "metadata": {},
     "output_type": "execute_result"
    }
   ],
   "source": [
    "n = 277678\n",
    "sh = get_shell(n)\n",
    "print(sh)\n",
    "sh.steps_to_center(n)"
   ]
  },
  {
   "cell_type": "code",
   "execution_count": null,
   "metadata": {},
   "outputs": [],
   "source": []
  }
 ],
 "metadata": {
  "kernelspec": {
   "display_name": "Python 3",
   "language": "python",
   "name": "python3"
  },
  "language_info": {
   "codemirror_mode": {
    "name": "ipython",
    "version": 3
   },
   "file_extension": ".py",
   "mimetype": "text/x-python",
   "name": "python",
   "nbconvert_exporter": "python",
   "pygments_lexer": "ipython3",
   "version": "3.6.5"
  }
 },
 "nbformat": 4,
 "nbformat_minor": 2
}
