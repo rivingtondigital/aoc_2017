{
 "cells": [
  {
   "cell_type": "code",
   "execution_count": 11,
   "metadata": {},
   "outputs": [
    {
     "data": {
      "text/plain": [
       "('0b100001010101101100111', '0b100001010101101100111', True)"
      ]
     },
     "execution_count": 11,
     "metadata": {},
     "output_type": "execute_result"
    }
   ],
   "source": [
    "res = bin(1092455)\n",
    "out = int(0b00000000000100001010101101100111)\n",
    "res,bin(out), res == bin(out)"
   ]
  },
  {
   "cell_type": "code",
   "execution_count": 112,
   "metadata": {},
   "outputs": [],
   "source": [
    "class Judge(object):\n",
    "    def __init__(self, startA, startB):\n",
    "        amult = 16807\n",
    "        bmult = 48271\n",
    "        atest = 4\n",
    "        btest = 8\n",
    "        self.a = self.gen(amult, startA, atest)\n",
    "        self.b = self.gen(bmult, startB, btest)\n",
    "        self.count = 0\n",
    "    \n",
    "    @staticmethod\n",
    "    def gen(mult, start, test=1):\n",
    "        last = start\n",
    "        div = 2147483647\n",
    "        while(True):\n",
    "            new = (last*mult) % div\n",
    "            if new % test == 0:\n",
    "                yield(new)\n",
    "            last = new\n",
    "            \n",
    "    def rnd(self):\n",
    "        a = next(self.a)\n",
    "        b = next(self.b)\n",
    "        aret = bin(a)[-16:]\n",
    "        bret = bin(b)[-16:]\n",
    "        \n",
    "        if aret == bret:\n",
    "            self.count += 1\n",
    "            \n",
    "        return aret, bret, self.count\n",
    "            \n",
    "            \n",
    "        "
   ]
  },
  {
   "cell_type": "code",
   "execution_count": 141,
   "metadata": {},
   "outputs": [],
   "source": [
    "j = Judge(65, 8921)\n",
    "j = Judge(116, 299)"
   ]
  },
  {
   "cell_type": "code",
   "execution_count": 142,
   "metadata": {},
   "outputs": [
    {
     "data": {
      "text/plain": [
       "5000000"
      ]
     },
     "execution_count": 142,
     "metadata": {},
     "output_type": "execute_result"
    }
   ],
   "source": [
    "rnum = 4*10**7\n",
    "rnum = 1055\n",
    "rnum = 5*10**6\n",
    "rnum"
   ]
  },
  {
   "cell_type": "code",
   "execution_count": 143,
   "metadata": {},
   "outputs": [],
   "source": [
    "for i in range(rnum):\n",
    "    j.rnd()"
   ]
  },
  {
   "cell_type": "code",
   "execution_count": 144,
   "metadata": {},
   "outputs": [
    {
     "data": {
      "text/plain": [
       "298"
      ]
     },
     "execution_count": 144,
     "metadata": {},
     "output_type": "execute_result"
    }
   ],
   "source": [
    "j.count"
   ]
  },
  {
   "cell_type": "code",
   "execution_count": null,
   "metadata": {},
   "outputs": [],
   "source": []
  }
 ],
 "metadata": {
  "kernelspec": {
   "display_name": "Python 3",
   "language": "python",
   "name": "python3"
  },
  "language_info": {
   "codemirror_mode": {
    "name": "ipython",
    "version": 3
   },
   "file_extension": ".py",
   "mimetype": "text/x-python",
   "name": "python",
   "nbconvert_exporter": "python",
   "pygments_lexer": "ipython3",
   "version": "3.6.5"
  }
 },
 "nbformat": 4,
 "nbformat_minor": 2
}
