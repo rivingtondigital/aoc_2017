{
 "cells": [
  {
   "cell_type": "code",
   "execution_count": 159,
   "metadata": {},
   "outputs": [],
   "source": [
    "class Node(object):\n",
    "    def __init__(self, value, prev, nxt):\n",
    "        self.value = value\n",
    "        self.prev = prev\n",
    "        self.nxt = nxt\n",
    "                \n",
    "    def __repr__(self):\n",
    "        return \"{}\".format(self.value)\n",
    "        \n",
    "class Spin(object):\n",
    "    def __init__(self, step):\n",
    "        self.root = Node(0, None, None)\n",
    "        self.root.prev = self.root\n",
    "        self.root.nxt = self.root\n",
    "        self._step = step\n",
    "        self.cur = self.root\n",
    "        \n",
    "    @property\n",
    "    def cur_index(self):\n",
    "        count=0\n",
    "        cur = self.cur\n",
    "        while(True):\n",
    "            if cur == self.root:\n",
    "                break\n",
    "            cur = cur.prev\n",
    "            count+=1\n",
    "        return count\n",
    "    \n",
    "    @property\n",
    "    def buffer(self):\n",
    "        cur = self.root\n",
    "        ret = []\n",
    "        while(True):\n",
    "            ret.append(cur.value)\n",
    "            cur = cur.nxt\n",
    "            if cur == self.root:\n",
    "                break\n",
    "        return ret\n",
    "            \n",
    "    def step(self, value):\n",
    "        for i in range(self._step):\n",
    "            print(\"stepping {}\".format(i))\n",
    "            self.cur = self.cur.nxt\n",
    "        print(\"current prev: {}\".format(self.cur))\n",
    "        new = Node(value, self.cur, self.cur.nxt)\n",
    "        self.cur.nxt = new\n",
    "        self.cur = new\n",
    "        "
   ]
  },
  {
   "cell_type": "code",
   "execution_count": 160,
   "metadata": {},
   "outputs": [],
   "source": [
    "itr = 5*10**7\n",
    "itr = 20"
   ]
  },
  {
   "cell_type": "code",
   "execution_count": 161,
   "metadata": {},
   "outputs": [
    {
     "name": "stdout",
     "output_type": "stream",
     "text": [
      "stepping 0\n",
      "stepping 1\n",
      "stepping 2\n",
      "current prev: 0\n",
      "[0, 1] -> 1 : 1\n",
      "stepping 0\n",
      "stepping 1\n",
      "stepping 2\n",
      "current prev: 0\n",
      "[0, 2, 1] -> 2 : 1\n",
      "stepping 0\n",
      "stepping 1\n",
      "stepping 2\n",
      "current prev: 2\n",
      "[0, 2, 3, 1] -> 3 : 2\n",
      "stepping 0\n",
      "stepping 1\n",
      "stepping 2\n",
      "current prev: 2\n",
      "[0, 2, 4, 3, 1] -> 4 : 2\n",
      "stepping 0\n",
      "stepping 1\n",
      "stepping 2\n",
      "current prev: 0\n",
      "[0, 5, 2, 4, 3, 1] -> 5 : 1\n",
      "stepping 0\n",
      "stepping 1\n",
      "stepping 2\n",
      "current prev: 3\n",
      "[0, 5, 2, 4, 3, 6, 1] -> 6 : 3\n",
      "stepping 0\n",
      "stepping 1\n",
      "stepping 2\n",
      "current prev: 5\n",
      "[0, 5, 7, 2, 4, 3, 6, 1] -> 7 : 2\n",
      "stepping 0\n",
      "stepping 1\n",
      "stepping 2\n",
      "current prev: 3\n",
      "[0, 5, 7, 2, 4, 3, 8, 6, 1] -> 8 : 3\n",
      "stepping 0\n",
      "stepping 1\n",
      "stepping 2\n",
      "current prev: 0\n",
      "[0, 9, 5, 7, 2, 4, 3, 8, 6, 1] -> 9 : 1\n",
      "stepping 0\n",
      "stepping 1\n",
      "stepping 2\n",
      "current prev: 2\n",
      "[0, 9, 5, 7, 2, 10, 4, 3, 8, 6, 1] -> 10 : 2\n",
      "stepping 0\n",
      "stepping 1\n",
      "stepping 2\n",
      "current prev: 8\n",
      "[0, 9, 5, 7, 2, 10, 4, 3, 8, 11, 6, 1] -> 11 : 4\n",
      "stepping 0\n",
      "stepping 1\n",
      "stepping 2\n",
      "current prev: 0\n",
      "[0, 12, 9, 5, 7, 2, 10, 4, 3, 8, 11, 6, 1] -> 12 : 1\n",
      "stepping 0\n",
      "stepping 1\n",
      "stepping 2\n",
      "current prev: 7\n",
      "[0, 12, 9, 5, 7, 13, 2, 10, 4, 3, 8, 11, 6, 1] -> 13 : 3\n",
      "stepping 0\n",
      "stepping 1\n",
      "stepping 2\n",
      "current prev: 4\n",
      "[0, 12, 9, 5, 7, 13, 2, 10, 4, 14, 3, 8, 11, 6, 1] -> 14 : 3\n",
      "stepping 0\n",
      "stepping 1\n",
      "stepping 2\n",
      "current prev: 11\n",
      "[0, 12, 9, 5, 7, 13, 2, 10, 4, 14, 3, 8, 11, 15, 6, 1] -> 15 : 5\n",
      "stepping 0\n",
      "stepping 1\n",
      "stepping 2\n",
      "current prev: 0\n",
      "[0, 16, 12, 9, 5, 7, 13, 2, 10, 4, 14, 3, 8, 11, 15, 6, 1] -> 16 : 1\n",
      "stepping 0\n",
      "stepping 1\n",
      "stepping 2\n",
      "current prev: 5\n",
      "[0, 16, 12, 9, 5, 17, 7, 13, 2, 10, 4, 14, 3, 8, 11, 15, 6, 1] -> 17 : 2\n",
      "stepping 0\n",
      "stepping 1\n",
      "stepping 2\n",
      "current prev: 2\n",
      "[0, 16, 12, 9, 5, 17, 7, 13, 2, 18, 10, 4, 14, 3, 8, 11, 15, 6, 1] -> 18 : 2\n",
      "stepping 0\n",
      "stepping 1\n",
      "stepping 2\n",
      "current prev: 14\n",
      "[0, 16, 12, 9, 5, 17, 7, 13, 2, 18, 10, 4, 14, 19, 3, 8, 11, 15, 6, 1] -> 19 : 4\n",
      "stepping 0\n",
      "stepping 1\n",
      "stepping 2\n",
      "current prev: 11\n",
      "[0, 16, 12, 9, 5, 17, 7, 13, 2, 18, 10, 4, 14, 19, 3, 8, 11, 20, 15, 6, 1] -> 20 : 5\n"
     ]
    }
   ],
   "source": [
    "steps = 3\n",
    "s = Spin(steps)\n",
    "cnt = 0\n",
    "for i in range(1, itr+1):\n",
    "    s.step(i)\n",
    "    print(\"{} -> {} : {}\".format(s.buffer, s.cur, s.cur_index))"
   ]
  },
  {
   "cell_type": "code",
   "execution_count": 149,
   "metadata": {},
   "outputs": [
    {
     "data": {
      "text/plain": [
       "0"
      ]
     },
     "execution_count": 149,
     "metadata": {},
     "output_type": "execute_result"
    }
   ],
   "source": [
    "s.root.nxt.nxt.nxt.nxt.prev"
   ]
  },
  {
   "cell_type": "code",
   "execution_count": null,
   "metadata": {},
   "outputs": [],
   "source": [
    "1 => 1\n",
    "2 => 2,3,4\n",
    "5 => 5,6,7,8\n",
    "9 => 9,10,11\n",
    "12 => 12,13,14,15\n",
    "16 => 16,17,18,19,20,21,22,23,24,25,26,27,28,29,30"
   ]
  },
  {
   "cell_type": "code",
   "execution_count": null,
   "metadata": {},
   "outputs": [],
   "source": [
    "3 => (2017, 638)\n",
    "4 => (2017, 826)\n",
    "5 => (2017, 271)\n",
    "6 => (2017, 933)\n",
    "7 => (2017, 208)"
   ]
  },
  {
   "cell_type": "code",
   "execution_count": null,
   "metadata": {},
   "outputs": [],
   "source": [
    "638%3"
   ]
  },
  {
   "cell_type": "code",
   "execution_count": null,
   "metadata": {},
   "outputs": [],
   "source": [
    "826%4"
   ]
  },
  {
   "cell_type": "code",
   "execution_count": null,
   "metadata": {},
   "outputs": [],
   "source": [
    "271%5"
   ]
  },
  {
   "cell_type": "code",
   "execution_count": null,
   "metadata": {},
   "outputs": [],
   "source": [
    "933%6"
   ]
  },
  {
   "cell_type": "code",
   "execution_count": 9,
   "metadata": {},
   "outputs": [
    {
     "name": "stdout",
     "output_type": "stream",
     "text": [
      "0 0 30\n",
      "1 0 30\n",
      "2 0 30\n",
      "3 0 30\n",
      "4 0 30\n",
      "5 0 30\n",
      "6 0 30\n",
      "7 0 30\n",
      "8 0 30\n",
      "9 0 30\n"
     ]
    }
   ],
   "source": [
    "c = 0\n",
    "\n",
    "for i in range(10):\n",
    "    \n",
    "    print(i, n%3, n+n%3)"
   ]
  },
  {
   "cell_type": "code",
   "execution_count": null,
   "metadata": {},
   "outputs": [],
   "source": []
  }
 ],
 "metadata": {
  "kernelspec": {
   "display_name": "Python 3",
   "language": "python",
   "name": "python3"
  },
  "language_info": {
   "codemirror_mode": {
    "name": "ipython",
    "version": 3
   },
   "file_extension": ".py",
   "mimetype": "text/x-python",
   "name": "python",
   "nbconvert_exporter": "python",
   "pygments_lexer": "ipython3",
   "version": "3.6.5"
  }
 },
 "nbformat": 4,
 "nbformat_minor": 2
}
